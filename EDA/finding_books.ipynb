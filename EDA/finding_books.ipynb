{
 "metadata": {
  "language_info": {
   "codemirror_mode": {
    "name": "ipython",
    "version": 3
   },
   "file_extension": ".py",
   "mimetype": "text/x-python",
   "name": "python",
   "nbconvert_exporter": "python",
   "pygments_lexer": "ipython3",
   "version": 3
  },
  "orig_nbformat": 2,
  "kernelspec": {
   "name": "python_defaultSpec_1596883164376",
   "display_name": "Python 3.7.7 64-bit"
  }
 },
 "nbformat": 4,
 "nbformat_minor": 2,
 "cells": [
  {
   "cell_type": "code",
   "execution_count": 22,
   "metadata": {},
   "outputs": [],
   "source": [
    "import pandas as pd\n",
    "import numpy as np"
   ]
  },
  {
   "cell_type": "code",
   "execution_count": 23,
   "metadata": {
    "tags": []
   },
   "outputs": [
    {
     "output_type": "stream",
     "name": "stdout",
     "text": "(1515, 10)\nIndex(['순위', '서명', '저자', '출판사', '출판년도', '권', 'ISBN', 'ISBN부가기호', 'KDC',\n       '대출건수'],\n      dtype='object')\n"
    },
    {
     "output_type": "execute_result",
     "data": {
      "text/plain": "   순위                                                 서명  \\\n0   1  Learn to Read With Tug the Pup and Friends! Bo...   \n1   2                        나미야 잡화점의 기적 :히가시노 게이고 장편소설    \n\n                                      저자                          출판사  출판년도  \\\n0  Wood, Julie M.|Braun, Sebastien (ILT)  HarpercollinsChildrensBooks  2014   \n1                지은이: 히가시노 게이고 ;옮긴이: 양윤옥                         현대문학  2012   \n\n     권           ISBN  ISBN부가기호    KDC  대출건수  \n0  NaN  9780062266897       NaN    NaN    56  \n1  NaN  9788972756194    3830.0  833.6    18  ",
      "text/html": "<div>\n<style scoped>\n    .dataframe tbody tr th:only-of-type {\n        vertical-align: middle;\n    }\n\n    .dataframe tbody tr th {\n        vertical-align: top;\n    }\n\n    .dataframe thead th {\n        text-align: right;\n    }\n</style>\n<table border=\"1\" class=\"dataframe\">\n  <thead>\n    <tr style=\"text-align: right;\">\n      <th></th>\n      <th>순위</th>\n      <th>서명</th>\n      <th>저자</th>\n      <th>출판사</th>\n      <th>출판년도</th>\n      <th>권</th>\n      <th>ISBN</th>\n      <th>ISBN부가기호</th>\n      <th>KDC</th>\n      <th>대출건수</th>\n    </tr>\n  </thead>\n  <tbody>\n    <tr>\n      <th>0</th>\n      <td>1</td>\n      <td>Learn to Read With Tug the Pup and Friends! Bo...</td>\n      <td>Wood, Julie M.|Braun, Sebastien (ILT)</td>\n      <td>HarpercollinsChildrensBooks</td>\n      <td>2014</td>\n      <td>NaN</td>\n      <td>9780062266897</td>\n      <td>NaN</td>\n      <td>NaN</td>\n      <td>56</td>\n    </tr>\n    <tr>\n      <th>1</th>\n      <td>2</td>\n      <td>나미야 잡화점의 기적 :히가시노 게이고 장편소설</td>\n      <td>지은이: 히가시노 게이고 ;옮긴이: 양윤옥</td>\n      <td>현대문학</td>\n      <td>2012</td>\n      <td>NaN</td>\n      <td>9788972756194</td>\n      <td>3830.0</td>\n      <td>833.6</td>\n      <td>18</td>\n    </tr>\n  </tbody>\n</table>\n</div>"
     },
     "metadata": {},
     "execution_count": 23
    }
   ],
   "source": [
    "steady = pd.read_excel('steady.xlsx')\n",
    "print(steady.shape)\n",
    "print(steady.columns)\n",
    "steady.head(2)"
   ]
  },
  {
   "cell_type": "code",
   "execution_count": 24,
   "metadata": {},
   "outputs": [
    {
     "output_type": "execute_result",
     "data": {
      "text/plain": "                                                  서명           ISBN  대출건수\n0  Learn to Read With Tug the Pup and Friends! Bo...  9780062266897    56\n1                        나미야 잡화점의 기적 :히가시노 게이고 장편소설   9788972756194    18\n2  My Weirdest School 12-Book Box Set: Books 1-12...  9780062878922    16\n3                                82년생 김지영 :조남주 장편소설   9788937473135    15\n4                                빈대 가족의 절약 그것이 알고 싶다  9788960244375    15",
      "text/html": "<div>\n<style scoped>\n    .dataframe tbody tr th:only-of-type {\n        vertical-align: middle;\n    }\n\n    .dataframe tbody tr th {\n        vertical-align: top;\n    }\n\n    .dataframe thead th {\n        text-align: right;\n    }\n</style>\n<table border=\"1\" class=\"dataframe\">\n  <thead>\n    <tr style=\"text-align: right;\">\n      <th></th>\n      <th>서명</th>\n      <th>ISBN</th>\n      <th>대출건수</th>\n    </tr>\n  </thead>\n  <tbody>\n    <tr>\n      <th>0</th>\n      <td>Learn to Read With Tug the Pup and Friends! Bo...</td>\n      <td>9780062266897</td>\n      <td>56</td>\n    </tr>\n    <tr>\n      <th>1</th>\n      <td>나미야 잡화점의 기적 :히가시노 게이고 장편소설</td>\n      <td>9788972756194</td>\n      <td>18</td>\n    </tr>\n    <tr>\n      <th>2</th>\n      <td>My Weirdest School 12-Book Box Set: Books 1-12...</td>\n      <td>9780062878922</td>\n      <td>16</td>\n    </tr>\n    <tr>\n      <th>3</th>\n      <td>82년생 김지영 :조남주 장편소설</td>\n      <td>9788937473135</td>\n      <td>15</td>\n    </tr>\n    <tr>\n      <th>4</th>\n      <td>빈대 가족의 절약 그것이 알고 싶다</td>\n      <td>9788960244375</td>\n      <td>15</td>\n    </tr>\n  </tbody>\n</table>\n</div>"
     },
     "metadata": {},
     "execution_count": 24
    }
   ],
   "source": [
    "df = steady.loc[:,['서명','ISBN','대출건수']]\n",
    "df.head()"
   ]
  },
  {
   "cell_type": "code",
   "execution_count": 25,
   "metadata": {},
   "outputs": [],
   "source": [
    "steady = df.groupby(['서명','ISBN'])['대출건수'].sum()"
   ]
  },
  {
   "cell_type": "code",
   "execution_count": 70,
   "metadata": {},
   "outputs": [],
   "source": [
    "steady = pd.DataFrame(steady).reset_index()\n",
    "steady = steady.sort_values(by='대출건수',ascending=False)\n",
    "steady.to_csv('steady_byCount.csv',index=False,encoding='utf-8')"
   ]
  },
  {
   "cell_type": "code",
   "execution_count": 97,
   "metadata": {
    "tags": []
   },
   "outputs": [
    {
     "output_type": "stream",
     "name": "stdout",
     "text": "(2889, 7)\nIndex(['순위', 'ISBN', '서명', 'ISBN부가기호', 'KDC', '대출건수', '성별'], dtype='object')\n"
    },
    {
     "output_type": "execute_result",
     "data": {
      "text/plain": "   순위           ISBN                                                 서명  \\\n0   1  9780062266897  Learn to Read With Tug the Pup and Friends! Bo...   \n1   2  9788950982188                    Go go 카카오 프렌즈 :세계 역사 문화 체험 학습만화   \n\n   ISBN부가기호    KDC  대출건수  성별  \n0       NaN    NaN    22  남성  \n1   74900.0  980.2     8  남성  ",
      "text/html": "<div>\n<style scoped>\n    .dataframe tbody tr th:only-of-type {\n        vertical-align: middle;\n    }\n\n    .dataframe tbody tr th {\n        vertical-align: top;\n    }\n\n    .dataframe thead th {\n        text-align: right;\n    }\n</style>\n<table border=\"1\" class=\"dataframe\">\n  <thead>\n    <tr style=\"text-align: right;\">\n      <th></th>\n      <th>순위</th>\n      <th>ISBN</th>\n      <th>서명</th>\n      <th>ISBN부가기호</th>\n      <th>KDC</th>\n      <th>대출건수</th>\n      <th>성별</th>\n    </tr>\n  </thead>\n  <tbody>\n    <tr>\n      <th>0</th>\n      <td>1</td>\n      <td>9780062266897</td>\n      <td>Learn to Read With Tug the Pup and Friends! Bo...</td>\n      <td>NaN</td>\n      <td>NaN</td>\n      <td>22</td>\n      <td>남성</td>\n    </tr>\n    <tr>\n      <th>1</th>\n      <td>2</td>\n      <td>9788950982188</td>\n      <td>Go go 카카오 프렌즈 :세계 역사 문화 체험 학습만화</td>\n      <td>74900.0</td>\n      <td>980.2</td>\n      <td>8</td>\n      <td>남성</td>\n    </tr>\n  </tbody>\n</table>\n</div>"
     },
     "metadata": {},
     "execution_count": 97
    }
   ],
   "source": [
    "gender = pd.read_excel('gender.xlsx')\n",
    "print(gender.shape)\n",
    "print(gender.columns)\n",
    "gender.head(2)"
   ]
  },
  {
   "cell_type": "code",
   "execution_count": 98,
   "metadata": {},
   "outputs": [],
   "source": [
    "gender = gender.loc[:,['ISBN', '서명', '대출건수', '성별']]"
   ]
  },
  {
   "cell_type": "code",
   "execution_count": 99,
   "metadata": {},
   "outputs": [
    {
     "output_type": "execute_result",
     "data": {
      "text/plain": "성별           ISBN                                                 서명   남성   여성\n0          125669                               David Walliams 소설 8종  7.0  0.0\n1   8809254941501  365 하루에 하나씩 레고 아이디어 북 - 작품 만들기, 흥미진진 게임, 시간 제한...  3.0  1.0\n2   8809611350441                                        집중력 미로찾기 공룡  0.0  1.0\n3   9780000148421                           노부영 세이펜 How Do You Feel?  1.0  0.0\n4   9780007122721                      Hitler's Daughter (Paperback)  1.0  0.0",
      "text/html": "<div>\n<style scoped>\n    .dataframe tbody tr th:only-of-type {\n        vertical-align: middle;\n    }\n\n    .dataframe tbody tr th {\n        vertical-align: top;\n    }\n\n    .dataframe thead th {\n        text-align: right;\n    }\n</style>\n<table border=\"1\" class=\"dataframe\">\n  <thead>\n    <tr style=\"text-align: right;\">\n      <th>성별</th>\n      <th>ISBN</th>\n      <th>서명</th>\n      <th>남성</th>\n      <th>여성</th>\n    </tr>\n  </thead>\n  <tbody>\n    <tr>\n      <th>0</th>\n      <td>125669</td>\n      <td>David Walliams 소설 8종</td>\n      <td>7.0</td>\n      <td>0.0</td>\n    </tr>\n    <tr>\n      <th>1</th>\n      <td>8809254941501</td>\n      <td>365 하루에 하나씩 레고 아이디어 북 - 작품 만들기, 흥미진진 게임, 시간 제한...</td>\n      <td>3.0</td>\n      <td>1.0</td>\n    </tr>\n    <tr>\n      <th>2</th>\n      <td>8809611350441</td>\n      <td>집중력 미로찾기 공룡</td>\n      <td>0.0</td>\n      <td>1.0</td>\n    </tr>\n    <tr>\n      <th>3</th>\n      <td>9780000148421</td>\n      <td>노부영 세이펜 How Do You Feel?</td>\n      <td>1.0</td>\n      <td>0.0</td>\n    </tr>\n    <tr>\n      <th>4</th>\n      <td>9780007122721</td>\n      <td>Hitler's Daughter (Paperback)</td>\n      <td>1.0</td>\n      <td>0.0</td>\n    </tr>\n  </tbody>\n</table>\n</div>"
     },
     "metadata": {},
     "execution_count": 99
    }
   ],
   "source": [
    "gender = pd.pivot_table(gender,values='대출건수',index=['ISBN','서명'],columns='성별').fillna(0).reset_index()\n",
    "gender.head()"
   ]
  },
  {
   "cell_type": "code",
   "execution_count": 101,
   "metadata": {},
   "outputs": [],
   "source": [
    "gender['sep'] = '여성'"
   ]
  },
  {
   "cell_type": "code",
   "execution_count": 103,
   "metadata": {},
   "outputs": [],
   "source": [
    "gender['sep'] = np.where(gender['남성']>gender['여성'],'남성','여성')"
   ]
  },
  {
   "cell_type": "code",
   "execution_count": 105,
   "metadata": {},
   "outputs": [],
   "source": [
    "gender.to_csv('steady_byGender.csv',index=False,encoding='utf-8')"
   ]
  },
  {
   "cell_type": "code",
   "execution_count": 123,
   "metadata": {},
   "outputs": [],
   "source": [
    "steady.head()\n",
    "steady = steady.loc[:,['서명','ISBN','대출건수']]"
   ]
  },
  {
   "cell_type": "code",
   "execution_count": 124,
   "metadata": {},
   "outputs": [
    {
     "output_type": "error",
     "ename": "KeyError",
     "evalue": "\"None of [Index(['남성', '여성'], dtype='object', name='성별')] are in the [columns]\"",
     "traceback": [
      "\u001b[0;31m---------------------------------------------------------------------------\u001b[0m",
      "\u001b[0;31mKeyError\u001b[0m                                  Traceback (most recent call last)",
      "\u001b[0;32m<ipython-input-124-02ffa6193989>\u001b[0m in \u001b[0;36m<module>\u001b[0;34m\u001b[0m\n\u001b[1;32m      1\u001b[0m \u001b[0mgender\u001b[0m\u001b[0;34m.\u001b[0m\u001b[0mhead\u001b[0m\u001b[0;34m(\u001b[0m\u001b[0;34m)\u001b[0m\u001b[0;34m\u001b[0m\u001b[0;34m\u001b[0m\u001b[0m\n\u001b[0;32m----> 2\u001b[0;31m \u001b[0mgender\u001b[0m\u001b[0;34m[\u001b[0m\u001b[0;34m'대출건수'\u001b[0m\u001b[0;34m]\u001b[0m \u001b[0;34m=\u001b[0m \u001b[0mgender\u001b[0m\u001b[0;34m[\u001b[0m\u001b[0;34m[\u001b[0m\u001b[0;34m'남성'\u001b[0m\u001b[0;34m,\u001b[0m\u001b[0;34m'여성'\u001b[0m\u001b[0;34m]\u001b[0m\u001b[0;34m]\u001b[0m\u001b[0;34m.\u001b[0m\u001b[0msum\u001b[0m\u001b[0;34m(\u001b[0m\u001b[0maxis\u001b[0m\u001b[0;34m=\u001b[0m\u001b[0;36m1\u001b[0m\u001b[0;34m)\u001b[0m\u001b[0;34m\u001b[0m\u001b[0;34m\u001b[0m\u001b[0m\n\u001b[0m\u001b[1;32m      3\u001b[0m \u001b[0mgender\u001b[0m\u001b[0;34m.\u001b[0m\u001b[0mdrop\u001b[0m\u001b[0;34m(\u001b[0m\u001b[0mcolumns\u001b[0m\u001b[0;34m=\u001b[0m\u001b[0;34m[\u001b[0m\u001b[0;34m'남성'\u001b[0m\u001b[0;34m,\u001b[0m\u001b[0;34m'여성'\u001b[0m\u001b[0;34m]\u001b[0m\u001b[0;34m,\u001b[0m\u001b[0minplace\u001b[0m\u001b[0;34m=\u001b[0m\u001b[0;32mTrue\u001b[0m\u001b[0;34m)\u001b[0m\u001b[0;34m\u001b[0m\u001b[0;34m\u001b[0m\u001b[0m\n",
      "\u001b[0;32m/Library/Frameworks/Python.framework/Versions/3.7/lib/python3.7/site-packages/pandas/core/frame.py\u001b[0m in \u001b[0;36m__getitem__\u001b[0;34m(self, key)\u001b[0m\n\u001b[1;32m   2804\u001b[0m             \u001b[0;32mif\u001b[0m \u001b[0mis_iterator\u001b[0m\u001b[0;34m(\u001b[0m\u001b[0mkey\u001b[0m\u001b[0;34m)\u001b[0m\u001b[0;34m:\u001b[0m\u001b[0;34m\u001b[0m\u001b[0;34m\u001b[0m\u001b[0m\n\u001b[1;32m   2805\u001b[0m                 \u001b[0mkey\u001b[0m \u001b[0;34m=\u001b[0m \u001b[0mlist\u001b[0m\u001b[0;34m(\u001b[0m\u001b[0mkey\u001b[0m\u001b[0;34m)\u001b[0m\u001b[0;34m\u001b[0m\u001b[0;34m\u001b[0m\u001b[0m\n\u001b[0;32m-> 2806\u001b[0;31m             \u001b[0mindexer\u001b[0m \u001b[0;34m=\u001b[0m \u001b[0mself\u001b[0m\u001b[0;34m.\u001b[0m\u001b[0mloc\u001b[0m\u001b[0;34m.\u001b[0m\u001b[0m_get_listlike_indexer\u001b[0m\u001b[0;34m(\u001b[0m\u001b[0mkey\u001b[0m\u001b[0;34m,\u001b[0m \u001b[0maxis\u001b[0m\u001b[0;34m=\u001b[0m\u001b[0;36m1\u001b[0m\u001b[0;34m,\u001b[0m \u001b[0mraise_missing\u001b[0m\u001b[0;34m=\u001b[0m\u001b[0;32mTrue\u001b[0m\u001b[0;34m)\u001b[0m\u001b[0;34m[\u001b[0m\u001b[0;36m1\u001b[0m\u001b[0;34m]\u001b[0m\u001b[0;34m\u001b[0m\u001b[0;34m\u001b[0m\u001b[0m\n\u001b[0m\u001b[1;32m   2807\u001b[0m \u001b[0;34m\u001b[0m\u001b[0m\n\u001b[1;32m   2808\u001b[0m         \u001b[0;31m# take() does not accept boolean indexers\u001b[0m\u001b[0;34m\u001b[0m\u001b[0;34m\u001b[0m\u001b[0;34m\u001b[0m\u001b[0m\n",
      "\u001b[0;32m/Library/Frameworks/Python.framework/Versions/3.7/lib/python3.7/site-packages/pandas/core/indexing.py\u001b[0m in \u001b[0;36m_get_listlike_indexer\u001b[0;34m(self, key, axis, raise_missing)\u001b[0m\n\u001b[1;32m   1551\u001b[0m \u001b[0;34m\u001b[0m\u001b[0m\n\u001b[1;32m   1552\u001b[0m         self._validate_read_indexer(\n\u001b[0;32m-> 1553\u001b[0;31m             \u001b[0mkeyarr\u001b[0m\u001b[0;34m,\u001b[0m \u001b[0mindexer\u001b[0m\u001b[0;34m,\u001b[0m \u001b[0mo\u001b[0m\u001b[0;34m.\u001b[0m\u001b[0m_get_axis_number\u001b[0m\u001b[0;34m(\u001b[0m\u001b[0maxis\u001b[0m\u001b[0;34m)\u001b[0m\u001b[0;34m,\u001b[0m \u001b[0mraise_missing\u001b[0m\u001b[0;34m=\u001b[0m\u001b[0mraise_missing\u001b[0m\u001b[0;34m\u001b[0m\u001b[0;34m\u001b[0m\u001b[0m\n\u001b[0m\u001b[1;32m   1554\u001b[0m         )\n\u001b[1;32m   1555\u001b[0m         \u001b[0;32mreturn\u001b[0m \u001b[0mkeyarr\u001b[0m\u001b[0;34m,\u001b[0m \u001b[0mindexer\u001b[0m\u001b[0;34m\u001b[0m\u001b[0;34m\u001b[0m\u001b[0m\n",
      "\u001b[0;32m/Library/Frameworks/Python.framework/Versions/3.7/lib/python3.7/site-packages/pandas/core/indexing.py\u001b[0m in \u001b[0;36m_validate_read_indexer\u001b[0;34m(self, key, indexer, axis, raise_missing)\u001b[0m\n\u001b[1;32m   1638\u001b[0m             \u001b[0;32mif\u001b[0m \u001b[0mmissing\u001b[0m \u001b[0;34m==\u001b[0m \u001b[0mlen\u001b[0m\u001b[0;34m(\u001b[0m\u001b[0mindexer\u001b[0m\u001b[0;34m)\u001b[0m\u001b[0;34m:\u001b[0m\u001b[0;34m\u001b[0m\u001b[0;34m\u001b[0m\u001b[0m\n\u001b[1;32m   1639\u001b[0m                 \u001b[0maxis_name\u001b[0m \u001b[0;34m=\u001b[0m \u001b[0mself\u001b[0m\u001b[0;34m.\u001b[0m\u001b[0mobj\u001b[0m\u001b[0;34m.\u001b[0m\u001b[0m_get_axis_name\u001b[0m\u001b[0;34m(\u001b[0m\u001b[0maxis\u001b[0m\u001b[0;34m)\u001b[0m\u001b[0;34m\u001b[0m\u001b[0;34m\u001b[0m\u001b[0m\n\u001b[0;32m-> 1640\u001b[0;31m                 \u001b[0;32mraise\u001b[0m \u001b[0mKeyError\u001b[0m\u001b[0;34m(\u001b[0m\u001b[0;34mf\"None of [{key}] are in the [{axis_name}]\"\u001b[0m\u001b[0;34m)\u001b[0m\u001b[0;34m\u001b[0m\u001b[0;34m\u001b[0m\u001b[0m\n\u001b[0m\u001b[1;32m   1641\u001b[0m \u001b[0;34m\u001b[0m\u001b[0m\n\u001b[1;32m   1642\u001b[0m             \u001b[0;31m# We (temporarily) allow for some missing keys with .loc, except in\u001b[0m\u001b[0;34m\u001b[0m\u001b[0;34m\u001b[0m\u001b[0;34m\u001b[0m\u001b[0m\n",
      "\u001b[0;31mKeyError\u001b[0m: \"None of [Index(['남성', '여성'], dtype='object', name='성별')] are in the [columns]\""
     ]
    }
   ],
   "source": [
    "gender.head()\n",
    "gender['대출건수'] = gender[['남성','여성']].sum(axis=1)\n",
    "gender.drop(columns=['남성','여성'],inplace=True)"
   ]
  },
  {
   "cell_type": "code",
   "execution_count": 125,
   "metadata": {},
   "outputs": [
    {
     "output_type": "execute_result",
     "data": {
      "text/plain": "Index(['서명_x', 'ISBN', '대출건수_x', '서명_y', 'sep', '대출건수_y'], dtype='object')"
     },
     "metadata": {},
     "execution_count": 125
    }
   ],
   "source": [
    "merge = pd.merge(steady,gender,how='outer',on='ISBN')\n",
    "merge.columns"
   ]
  },
  {
   "cell_type": "code",
   "execution_count": 129,
   "metadata": {},
   "outputs": [],
   "source": [
    "merge.drop(columns=['서명_x','대출건수_x'],inplace=True)"
   ]
  },
  {
   "cell_type": "code",
   "execution_count": 134,
   "metadata": {},
   "outputs": [],
   "source": [
    "merge.to_csv('finding_books_proto.csv', index=False, encoding='utf-8')"
   ]
  },
  {
   "cell_type": "code",
   "execution_count": null,
   "metadata": {},
   "outputs": [],
   "source": []
  }
 ]
}